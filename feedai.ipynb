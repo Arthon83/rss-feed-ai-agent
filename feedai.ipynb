{
 "cells": [
  {
   "cell_type": "code",
   "execution_count": 1,
   "id": "20402e3b-0e61-4261-8167-0d546410346e",
   "metadata": {
    "tags": []
   },
   "outputs": [],
   "source": [
    "#!/usr/bin/env python\n",
    "# coding: utf-8\n",
    "\n",
    "import pandas as pd\n",
    "\n",
    "import sys\n",
    "import os\n",
    "import argparse\n",
    "import yaml\n",
    "from dotenv import load_dotenv\n",
    "from datetime import datetime\n",
    "from tqdm import tqdm\n",
    "\n",
    "import feedparser\n",
    "import openai\n",
    "\n",
    "with open(\"config.yaml\", 'r', encoding='utf-8') as file:\n",
    "    config = yaml.safe_load(file)"
   ]
  },
  {
   "cell_type": "code",
   "execution_count": 2,
   "id": "c9b75830-62fb-4a9d-8691-e9623315e95d",
   "metadata": {
    "tags": []
   },
   "outputs": [],
   "source": [
    "def is_jupyter():\n",
    "    \"\"\"\n",
    "    True: if run in jupyter; \n",
    "    False: if run in console\n",
    "    \"\"\"\n",
    "    return hasattr(sys, 'ps1') or 'ipykernel' in sys.modules"
   ]
  },
  {
   "cell_type": "code",
   "execution_count": 3,
   "id": "3b37cf45-09b3-4c0a-9a40-f7e3649724ee",
   "metadata": {
    "tags": []
   },
   "outputs": [],
   "source": [
    "def get_arguments(rss_url, portal, model):\n",
    "    \"\"\"\n",
    "    Argumentumok betöltése CLI-ből vagy Jupyter környezetből.\n",
    "    \"\"\"\n",
    "    default_args = {\n",
    "        \"rss_url\": rss_url,\n",
    "        \"portal\": portal,\n",
    "        \"model\": model\n",
    "    }\n",
    "\n",
    "    if is_jupyter():\n",
    "        class Args:\n",
    "            def __init__(self, args_dict):\n",
    "                self.__dict__.update(args_dict)\n",
    "        return Args(default_args)\n",
    "    else:\n",
    "        parser = argparse.ArgumentParser(description = \"RSS feldolgozó OpenAI modellel\")\n",
    "        parser.add_argument('--rss_url', type = str, required=True, help = 'Az RSS feed URL-je')\n",
    "        parser.add_argument('--portal', type = str, required=True, help = 'A portál neve')\n",
    "        parser.add_argument('--model', type = str, default=\"o4-mini\", help = 'A használt OpenAI modell neve')\n",
    "        return parser.parse_args()"
   ]
  },
  {
   "cell_type": "code",
   "execution_count": 4,
   "id": "d6aab553-94cb-42cf-8a9f-92fe4219e020",
   "metadata": {
    "tags": []
   },
   "outputs": [],
   "source": [
    "def load_feed(rss_url):\n",
    "    feed = feedparser.parse(rss_url)\n",
    "     \n",
    "    link = [\n",
    "    {\n",
    "        'title': entry.title,\n",
    "        'published': entry.published,\n",
    "        'link': entry.link\n",
    "    }\n",
    "    for entry in feed.entries[0:200]\n",
    "    ]\n",
    "            \n",
    "    return pd.DataFrame(link)"
   ]
  },
  {
   "cell_type": "code",
   "execution_count": 24,
   "id": "26775c82-3f47-4abf-aa58-155ab7d4da66",
   "metadata": {
    "tags": []
   },
   "outputs": [],
   "source": [
    "args = get_arguments(rss_url = \"https://www.telex.hu/rss/\", model = \"o4-mini\", portal = \"telex\")\n",
    "\n",
    "rss_url = args.rss_url\n",
    "model_name = args.model\n",
    "portal = args.portal"
   ]
  },
  {
   "cell_type": "code",
   "execution_count": null,
   "id": "685d882d-45c7-490b-9c12-07a1a3fc025e",
   "metadata": {
    "tags": []
   },
   "outputs": [],
   "source": [
    "print(\"Get feeds!\")\n",
    "df = load_feed(rss_url)\n",
    "\n",
    "df['date'] = datetime.now().strftime('%y%m%d')\n",
    "df['portal'] = portal\n",
    "df['topic'] = df['link'].str.split('/', expand = True)[3] # Ususaly 4. index is the topic\n",
    "df['published'] = pd.to_datetime(df['published'], format = '%a, %d %b %Y %H:%M:%S %z')\n",
    "df['published'] = df['published'].dt.strftime('%Y-%m-%d %H:%M')\n",
    "print(f\"Feed list shape: {df.shape[0]} row!\")"
   ]
  },
  {
   "cell_type": "code",
   "execution_count": 27,
   "id": "a51ef2a4-5eef-4f1a-a5c7-dad1a9a8457f",
   "metadata": {
    "tags": []
   },
   "outputs": [
    {
     "name": "stdout",
     "output_type": "stream",
     "text": [
      "Init..\n"
     ]
    }
   ],
   "source": [
    "print(\"Init..\")\n",
    "args = get_arguments(rss_url = \"https://www.telex.hu.hu/rss/\", model = \"o4-mini\", portal = \"telex\")\n",
    "\n",
    "rss_url = args.rss_url\n",
    "model_name = args.model\n",
    "portal = args.portal"
   ]
  },
  {
   "cell_type": "code",
   "execution_count": 28,
   "id": "1ba7a15b-9daf-4758-a04e-cb0f21990024",
   "metadata": {
    "tags": []
   },
   "outputs": [],
   "source": [
    "load_dotenv()\n",
    "api_key = os.getenv(\"OPENAI_API_KEY\")\n",
    "\n",
    "client = openai.OpenAI(api_key = api_key)"
   ]
  },
  {
   "cell_type": "code",
   "execution_count": 30,
   "id": "674be7df-7d5e-4db7-a9c4-969560d46304",
   "metadata": {
    "tags": []
   },
   "outputs": [
    {
     "name": "stdout",
     "output_type": "stream",
     "text": [
      "Process 25 article from telex! \n"
     ]
    }
   ],
   "source": [
    "# Már feldolgozott cikkek gyűjője. - Already processed articles\n",
    "df_links = pd.read_csv('links.csv')\n",
    "# Már feldolgozott cikkek szűrése - Filter alredy processed article\n",
    "df_news = df[~df['link'].isin(df_links['link'])]\n",
    "# Feldolgozásra szánt cikkek kiválasztása - Select article count per run\n",
    "df_news = df_news.iloc[0:config[\"max_article\"]]\n",
    "\n",
    "print(f\"Process {len(df_news)} article from {portal}! \")"
   ]
  },
  {
   "cell_type": "code",
   "execution_count": 31,
   "id": "fe11f850-d0b4-4a31-9caa-10cf53f6c4f8",
   "metadata": {
    "tags": []
   },
   "outputs": [],
   "source": [
    "with open('system_prompt.txt', 'r', encoding = 'utf-8') as file:\n",
    "    system_prompt = file.read()"
   ]
  },
  {
   "cell_type": "code",
   "execution_count": null,
   "id": "3d6c1b49-513f-4022-99e3-00c2f96ac0f7",
   "metadata": {
    "tags": []
   },
   "outputs": [],
   "source": [
    "response_text = ''\n",
    "new_token_count = 0\n",
    "completion_token_count = 0\n",
    "\n",
    "print(f\"Process {len(df_news)} articles from {portal}!\")\n",
    "for idx, article in tqdm(df_news.iterrows(), total = len(df_news)-20, desc = \"Processing articles\"):\n",
    "    \n",
    "    \n",
    "    try:\n",
    "        # OpenAI válasz lekérése az adott link alapján - OpenAI response \n",
    "        messages = [\n",
    "        {\"role\": \"system\", \"content\": system_prompt},\n",
    "        {\"role\": \"user\", \"content\": article['link']}\n",
    "        ]\n",
    "        \n",
    "        response = client.chat.completions.create(model = model_name, messages = messages)\n",
    "\n",
    "        # Tokenhasználat nyomon követése - Track token usage\n",
    "        new_token_count += response.usage.prompt_tokens\n",
    "        completion_token_count += response.usage.completion_tokens\n",
    "\n",
    "        # Markdown szöveg összeállítása - Build markdown-formatted summary block\n",
    "        response_text += (\n",
    "            f\"Dátum: {article['published']} <br>\\n\"\n",
    "            f\"Topic: {article['topic']} <br><br>\\n\\n\"\n",
    "            f\"{response.choices[0].message.content}<br>\\n\\n\"\n",
    "            f\"[{article['title']}]({article['link']}) <br>\\n\\n\"\n",
    "            \"<br><hr><hr><br>\\n\"\n",
    "        )\n",
    "\n",
    "    except Exception as e:\n",
    "        print(f\"Hiba: {e}\")\n",
    "        \n",
    "        continue\n",
    "print(\"Done!\")"
   ]
  },
  {
   "cell_type": "code",
   "execution_count": 34,
   "id": "ca061297-b38e-4e1c-beae-e4509e6f39dc",
   "metadata": {
    "tags": []
   },
   "outputs": [],
   "source": [
    "# Tokenköltség kiszámítása (OpenAI pricing alapján) - Calculate token cost (based on OpenAi)\n",
    "new_token_cost = new_token_count / 1_000_000 * 1.1\n",
    "completion_token_cost = completion_token_count / 1_000_000 * 4.4\n",
    "total_cost = new_token_cost + completion_token_cost\n",
    "\n",
    "response_text += (\n",
    "    f\"New token cost(o4-mini): [{new_token_count}] – {new_token_cost:.5f}$\\n\"\n",
    "    f\"Completion token cost(o4-mini): [{completion_token_count}] – {completion_token_cost:.5f}$\\n\"\n",
    "    f\"**Total(o4-mini): {total_cost:.5f}$**\\n\"\n",
    ")"
   ]
  },
  {
   "cell_type": "code",
   "execution_count": 22,
   "id": "623cb02a-9567-4c31-857c-b56399bee0a9",
   "metadata": {
    "tags": []
   },
   "outputs": [],
   "source": [
    "# Mentés google drive-ra - Save to google drive\n",
    "if config['google_drive_path']:\n",
    "    with open(f\"{config['google_drive_path']}{portal}{datetime.now().strftime('%y%m%d')}.md\", \"w\", encoding = \"utf-8\") as file:\n",
    "        file.write(response_text)"
   ]
  },
  {
   "cell_type": "code",
   "execution_count": 23,
   "id": "9b091783-39e6-4fd5-bf13-14d8dc481eb5",
   "metadata": {
    "tags": []
   },
   "outputs": [],
   "source": [
    "# output local\n",
    "with open(f\"output/{portal}{datetime.now().strftime('%y%m%d')}.md\", \"w\", encoding = \"utf-8\") as file:\n",
    "    file.write(response_text)"
   ]
  }
 ],
 "metadata": {
  "kernelspec": {
   "display_name": "Python (feedlyenv)",
   "language": "python",
   "name": "feedlyenv"
  },
  "language_info": {
   "codemirror_mode": {
    "name": "ipython",
    "version": 3
   },
   "file_extension": ".py",
   "mimetype": "text/x-python",
   "name": "python",
   "nbconvert_exporter": "python",
   "pygments_lexer": "ipython3",
   "version": "3.11.13"
  }
 },
 "nbformat": 4,
 "nbformat_minor": 5
}
